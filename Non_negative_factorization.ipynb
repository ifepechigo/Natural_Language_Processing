{
 "cells": [
  {
   "cell_type": "markdown",
   "metadata": {},
   "source": [
    "# Necassary Imports"
   ]
  },
  {
   "cell_type": "code",
   "execution_count": 7,
   "metadata": {},
   "outputs": [
    {
     "name": "stderr",
     "output_type": "stream",
     "text": [
      "[nltk_data] Downloading package punkt to C:\\Users\\Orchid\n",
      "[nltk_data]     X\\AppData\\Roaming\\nltk_data...\n",
      "[nltk_data]   Package punkt is already up-to-date!\n",
      "[nltk_data] Downloading package punkt_tab to C:\\Users\\Orchid\n",
      "[nltk_data]     X\\AppData\\Roaming\\nltk_data...\n",
      "[nltk_data]   Package punkt_tab is already up-to-date!\n",
      "[nltk_data] Downloading package stopwords to C:\\Users\\Orchid\n",
      "[nltk_data]     X\\AppData\\Roaming\\nltk_data...\n",
      "[nltk_data]   Package stopwords is already up-to-date!\n"
     ]
    }
   ],
   "source": [
    "# Imports\n",
    "import gensim\n",
    "import numpy as np\n",
    "import pandas as pd\n",
    "import matplotlib.pyplot as plt\n",
    "# import seaborn as sns\n",
    "\n",
    "import nltk\n",
    "from nltk.tokenize import word_tokenize\n",
    "nltk.download('punkt')\n",
    "nltk.download('punkt_tab')\n",
    "nltk.download('stopwords')\n",
    "\n",
    "from nltk.corpus import stopwords\n",
    "\n",
    "# stop_words = set(stopwords.words('english'))\n",
    "\n",
    "import re\n",
    "#import inflect\n",
    "#from num2words import num2words\n",
    "from nltk.corpus import stopwords\n",
    "from collections import Counter\n",
    "\n",
    "import sklearn\n",
    "\n",
    "from gensim.models import Word2Vec\n",
    "from sklearn.decomposition import NMF\n",
    "from sklearn.model_selection import ParameterSampler\n",
    "from sklearn.feature_extraction.text import TfidfVectorizer\n",
    "from sklearn.metrics.pairwise import cosine_similarity\n",
    "\n",
    "from sklearn.model_selection import train_test_split\n",
    "from sklearn.naive_bayes import MultinomialNB\n",
    "from sklearn.linear_model import LogisticRegression\n",
    "from sklearn.metrics import accuracy_score, precision_score, recall_score, f1_score, classification_report\n",
    "from sklearn.model_selection import cross_val_score\n",
    "from sklearn.feature_extraction.text import CountVectorizer\n",
    "from sklearn.model_selection import RandomizedSearchCV\n",
    "\n",
    "from nltk.stem import WordNetLemmatizer\n",
    "import nltk "
   ]
  },
  {
   "cell_type": "markdown",
   "metadata": {},
   "source": [
    "# Necassary preprocessing steps"
   ]
  },
  {
   "cell_type": "code",
   "execution_count": 9,
   "metadata": {},
   "outputs": [],
   "source": [
    "# Import data\n",
    "df = pd.read_csv('us_equities_news_dataset.csv')"
   ]
  },
  {
   "cell_type": "code",
   "execution_count": 10,
   "metadata": {},
   "outputs": [],
   "source": [
    "# Filter out Nvidia articles\n",
    "nvidia_df = df[df['title'].str.contains('NVIDIA|NVDA', case=False, na=False) |\n",
    "               df['content'].str.contains('NVIDIA|NVDA', case=False, na=False) |\n",
    "               df['ticker'].str.contains('NVIDIA|NVDA', case=False, na=False)]"
   ]
  },
  {
   "cell_type": "code",
   "execution_count": 11,
   "metadata": {},
   "outputs": [
    {
     "name": "stdout",
     "output_type": "stream",
     "text": [
      "3464\n"
     ]
    }
   ],
   "source": [
    "print(len(nvidia_df))"
   ]
  },
  {
   "cell_type": "code",
   "execution_count": 12,
   "metadata": {},
   "outputs": [
    {
     "name": "stderr",
     "output_type": "stream",
     "text": [
      "C:\\Users\\Orchid X\\AppData\\Local\\Temp\\ipykernel_27908\\2317645968.py:14: SettingWithCopyWarning: \n",
      "A value is trying to be set on a copy of a slice from a DataFrame.\n",
      "Try using .loc[row_indexer,col_indexer] = value instead\n",
      "\n",
      "See the caveats in the documentation: https://pandas.pydata.org/pandas-docs/stable/user_guide/indexing.html#returning-a-view-versus-a-copy\n",
      "  nvidia_df['content'] = nvidia_df['content'].apply(preprocess_text_iteration1)\n"
     ]
    }
   ],
   "source": [
    "#Pre processing steps\n",
    "def preprocess_text_iteration1(text):\n",
    "    text = text.strip()\n",
    "    # Replace URLs with an empty string\n",
    "    re.sub(r'http\\S+|www\\S+|https\\S+', '', text, flags=re.MULTILINE)\n",
    "    words = word_tokenize(text.lower())\n",
    "    #check if the word is alpha numeric\n",
    "    alpha_words = [word for word in words if word.isalpha()]\n",
    "    #remove numbers\n",
    "    numbers_words = [word for word in alpha_words if not word.isdigit()]\n",
    "    return numbers_words\n",
    "\n",
    "# apply preprocessing\n",
    "nvidia_df['content'] = nvidia_df['content'].apply(preprocess_text_iteration1)"
   ]
  },
  {
   "cell_type": "code",
   "execution_count": 13,
   "metadata": {},
   "outputs": [
    {
     "name": "stdout",
     "output_type": "stream",
     "text": [
      "[[0. 0. 0. ... 0. 0. 0.]\n",
      " [0. 0. 0. ... 0. 0. 0.]\n",
      " [0. 0. 0. ... 0. 0. 0.]\n",
      " ...\n",
      " [0. 0. 0. ... 0. 0. 0.]\n",
      " [0. 0. 0. ... 0. 0. 0.]\n",
      " [0. 0. 0. ... 0. 0. 0.]]\n"
     ]
    }
   ],
   "source": [
    "#create a document term matrix\n",
    "tfidf = TfidfVectorizer(max_df=0.95, min_df=2, stop_words='english')\n",
    "\n",
    "\n",
    "dtm = tfidf.fit_transform(nvidia_df['content'].apply(lambda x: ' '.join(x)))\n",
    "print(dtm.toarray())"
   ]
  },
  {
   "cell_type": "code",
   "execution_count": 19,
   "metadata": {},
   "outputs": [
    {
     "name": "stdout",
     "output_type": "stream",
     "text": [
      "19328\n",
      "\n",
      "\n",
      "7\n",
      "\n",
      "\n",
      "19328\n"
     ]
    }
   ],
   "source": [
    "# train LDAModel\n",
    "from sklearn.decomposition import NMF\n",
    "nmf_model = NMF(n_components=7,random_state=42)\n",
    "nmf_model.fit(dtm)\n",
    "\n",
    "# get topics\n",
    "\n",
    "print(len(tfidf.get_feature_names_out()))\n",
    "print('\\n')\n",
    "print(len(nmf_model.components_))\n",
    "print('\\n')\n",
    "print(len(nmf_model.components_[0]))\n",
    "\n",
    "# single_topic = nmf_model.components_[0]\n",
    "\n",
    "\n",
    "# top_word_indices = single_topic.argsort()[-10:]\n",
    "# for index in top_word_indices:\n",
    "#     print(tfidf.get_feature_names()[index])\n",
    "\n"
   ]
  },
  {
   "cell_type": "code",
   "execution_count": 35,
   "metadata": {},
   "outputs": [
    {
     "name": "stdout",
     "output_type": "stream",
     "text": [
      "THE TOP 15 WORDS FOR TOPIC #0\n",
      "['strong', 'esp', 'market', 'nasdaq', 'estimates', 'semiconductor', 'current', 'year', 'buy', 'estimate', 'industry', 'research', 'stock', 'company', 'growth', 'investment', 'rank', 'stocks', 'earnings', 'zacks']\n",
      "\n",
      "\n",
      "THE TOP 15 WORDS FOR TOPIC #1\n",
      "['rose', 'stock', 'shares', 'past', 'trade', 'day', 'com', 'nasdaq', 'days', 'investing', 'range', 'start', 'session', 'highest', 'volume', 'exchange', 'lowest', 'seven', 'gmt', 'traded']\n",
      "\n",
      "\n",
      "THE TOP 15 WORDS FOR TOPIC #2\n",
      "['dow', 'dollar', 'thursday', 'investors', 'trading', 'oil', 'year', 'trump', 'nyse', 'said', 'day', 'friday', 'nasdaq', 'fed', 'trade', 'market', 'index', 'china', 'week', 'percent']\n",
      "\n",
      "\n",
      "THE TOP 15 WORDS FOR TOPIC #3\n",
      "['ago', 'margin', 'reported', 'operating', 'cash', 'share', 'non', 'earnings', 'fiscal', 'estimate', 'cents', 'consensus', 'gaap', 'billion', 'zacks', 'company', 'revenues', 'year', 'million', 'quarter']\n",
      "\n",
      "\n",
      "THE TOP 15 WORDS FOR TOPIC #4\n",
      "['baidu', 'chips', 'cloud', 'platform', 'companies', 'vehicle', 'said', 'nasdaq', 'apple', 'google', 'car', 'company', 'intel', 'technology', 'vehicles', 'cars', 'ai', 'autonomous', 'self', 'driving']\n",
      "\n",
      "\n",
      "THE TOP 15 WORDS FOR TOPIC #5\n",
      "['usd', 'shares', 'late', 'lost', 'barrel', 'futures', 'oil', 'dow', 'index', 'corporation', 'worst', 'trade', 'fell', 'settle', 'points', 'rose', 'nyse', 'close', 'performers', 'nasdaq']\n",
      "\n",
      "\n",
      "THE TOP 15 WORDS FOR TOPIC #6\n",
      "['center', 'processors', 'advanced', 'devices', 'nasdaq', 'cryptocurrency', 'market', 'chip', 'pc', 'demand', 'micro', 'revenue', 'gpus', 'radeon', 'chips', 'gpu', 'graphics', 'gaming', 'intel', 'amd']\n",
      "\n",
      "\n"
     ]
    }
   ],
   "source": [
    "for index,topic in enumerate(nmf_model.components_):\n",
    "    print(f'THE TOP 15 WORDS FOR TOPIC #{index}')\n",
    "    print([tfidf.get_feature_names_out()[i] for i in topic.argsort()[-20:]])\n",
    "    print('\\n')\n"
   ]
  },
  {
   "cell_type": "code",
   "execution_count": 28,
   "metadata": {},
   "outputs": [
    {
     "data": {
      "image/png": "[encoded data removed]",
      "text/plain": [
       "<Figure size 1000x500 with 1 Axes>"
      ]
     },
     "metadata": {},
     "output_type": "display_data"
    }
   ],
   "source": [
    "\n",
    "# plot the distribution of topics\n",
    "plt.figure(figsize=(10, 5))\n",
    "plt.hist(topic_results.argmax(axis=1), bins=7)\n",
    "plt.xlabel('Topic')\n",
    "plt.ylabel('Number of documents')\n",
    "plt.title('Distribution of topics')\n",
    "plt.show()\n"
   ]
  },
  {
   "cell_type": "code",
   "execution_count": 29,
   "metadata": {},
   "outputs": [
    {
     "data": {
      "text/plain": [
       "(3464, 19328)"
      ]
     },
     "execution_count": 29,
     "metadata": {},
     "output_type": "execute_result"
    }
   ],
   "source": [
    "dtm.shape\n"
   ]
  },
  {
   "cell_type": "code",
   "execution_count": 23,
   "metadata": {},
   "outputs": [
    {
     "name": "stdout",
     "output_type": "stream",
     "text": [
      "[[1.06998676e-03 6.81523462e-05 9.57666728e-02 ... 0.00000000e+00\n",
      "  2.18873852e-03 9.41613946e-04]\n",
      " [1.48124131e-02 9.40288374e-03 4.67698483e-02 ... 1.47042309e-02\n",
      "  0.00000000e+00 1.52923238e-03]\n",
      " [5.35909892e-04 1.26836322e-02 7.96419834e-02 ... 2.72395400e-02\n",
      "  5.41699935e-02 0.00000000e+00]\n",
      " ...\n",
      " [1.76512765e-02 4.85123771e-03 1.23771500e-02 ... 0.00000000e+00\n",
      "  0.00000000e+00 1.00340399e-01]\n",
      " [1.49511078e-01 2.85343312e-03 0.00000000e+00 ... 0.00000000e+00\n",
      "  0.00000000e+00 0.00000000e+00]\n",
      " [1.08662733e-01 3.13233468e-03 1.12153986e-03 ... 0.00000000e+00\n",
      "  0.00000000e+00 0.00000000e+00]]\n"
     ]
    }
   ],
   "source": [
    "\n",
    "topic_results = nmf_model.transform(dtm)\n",
    "\n",
    "print(topic_results)"
   ]
  },
  {
   "cell_type": "code",
   "execution_count": 30,
   "metadata": {},
   "outputs": [
    {
     "data": {
      "text/plain": [
       "array([1.06998676e-03, 6.81523462e-05, 9.57666728e-02, 0.00000000e+00,\n",
       "       0.00000000e+00, 2.18873852e-03, 9.41613946e-04])"
      ]
     },
     "execution_count": 30,
     "metadata": {},
     "output_type": "execute_result"
    }
   ],
   "source": [
    "topic_results[0]\n"
   ]
  },
  {
   "cell_type": "code",
   "execution_count": 31,
   "metadata": {},
   "outputs": [
    {
     "data": {
      "text/plain": [
       "array([0. , 0. , 0.1, 0. , 0. , 0. , 0. ])"
      ]
     },
     "execution_count": 31,
     "metadata": {},
     "output_type": "execute_result"
    }
   ],
   "source": [
    "topic_results[0].round(2)\n"
   ]
  },
  {
   "cell_type": "code",
   "execution_count": 32,
   "metadata": {},
   "outputs": [
    {
     "data": {
      "text/plain": [
       "2"
      ]
     },
     "execution_count": 32,
     "metadata": {},
     "output_type": "execute_result"
    }
   ],
   "source": [
    "topic_results[0].argmax()\n"
   ]
  },
  {
   "cell_type": "code",
   "execution_count": 33,
   "metadata": {},
   "outputs": [
    {
     "data": {
      "text/plain": [
       "array([2, 2, 2, ..., 6, 0, 0], dtype=int64)"
      ]
     },
     "execution_count": 33,
     "metadata": {},
     "output_type": "execute_result"
    }
   ],
   "source": [
    "topic_results.argmax(axis=1)\n"
   ]
  },
  {
   "cell_type": "code",
   "execution_count": 34,
   "metadata": {},
   "outputs": [
    {
     "name": "stderr",
     "output_type": "stream",
     "text": [
      "C:\\Users\\Orchid X\\AppData\\Local\\Temp\\ipykernel_27908\\3965545313.py:1: SettingWithCopyWarning: \n",
      "A value is trying to be set on a copy of a slice from a DataFrame.\n",
      "Try using .loc[row_indexer,col_indexer] = value instead\n",
      "\n",
      "See the caveats in the documentation: https://pandas.pydata.org/pandas-docs/stable/user_guide/indexing.html#returning-a-view-versus-a-copy\n",
      "  nvidia_df['Topic'] = topic_results.argmax(axis=1)\n"
     ]
    },
    {
     "data": {
      "text/html": [
       "<div>\n",
       "<style scoped>\n",
       "    .dataframe tbody tr th:only-of-type {\n",
       "        vertical-align: middle;\n",
       "    }\n",
       "\n",
       "    .dataframe tbody tr th {\n",
       "        vertical-align: top;\n",
       "    }\n",
       "\n",
       "    .dataframe thead th {\n",
       "        text-align: right;\n",
       "    }\n",
       "</style>\n",
       "<table border=\"1\" class=\"dataframe\">\n",
       "  <thead>\n",
       "    <tr style=\"text-align: right;\">\n",
       "      <th></th>\n",
       "      <th>id</th>\n",
       "      <th>ticker</th>\n",
       "      <th>title</th>\n",
       "      <th>category</th>\n",
       "      <th>content</th>\n",
       "      <th>release_date</th>\n",
       "      <th>provider</th>\n",
       "      <th>url</th>\n",
       "      <th>article_id</th>\n",
       "      <th>Topic</th>\n",
       "    </tr>\n",
       "  </thead>\n",
       "  <tbody>\n",
       "    <tr>\n",
       "      <th>24</th>\n",
       "      <td>221539</td>\n",
       "      <td>NIO</td>\n",
       "      <td>A Central Bank War Just Started And Its Good F...</td>\n",
       "      <td>opinion</td>\n",
       "      <td>[ecb, effects, the, move, in, the, euro, was, ...</td>\n",
       "      <td>2019-03-07</td>\n",
       "      <td>Michael Kramer</td>\n",
       "      <td>https://www.investing.com/analysis/a-central-b...</td>\n",
       "      <td>200395687</td>\n",
       "      <td>2</td>\n",
       "    </tr>\n",
       "    <tr>\n",
       "      <th>32</th>\n",
       "      <td>221547</td>\n",
       "      <td>NIO</td>\n",
       "      <td>6 Stocks To Watch  Nivida Could Be Falling</td>\n",
       "      <td>opinion</td>\n",
       "      <td>[stocks, to, watch, march, trading, session, s...</td>\n",
       "      <td>2019-03-06</td>\n",
       "      <td>Michael Kramer</td>\n",
       "      <td>https://www.investing.com/analysis/6-stocks-to...</td>\n",
       "      <td>200394931</td>\n",
       "      <td>2</td>\n",
       "    </tr>\n",
       "    <tr>\n",
       "      <th>57</th>\n",
       "      <td>221572</td>\n",
       "      <td>NIO</td>\n",
       "      <td>Stocks   Dow Drops Nearly 400 Points as Apple ...</td>\n",
       "      <td>news</td>\n",
       "      <td>[investing, com, a, rout, in, apple, and, face...</td>\n",
       "      <td>2018-11-19</td>\n",
       "      <td>Investing.com</td>\n",
       "      <td>https://www.investing.com/news/stock-market-ne...</td>\n",
       "      <td>1694042</td>\n",
       "      <td>2</td>\n",
       "    </tr>\n",
       "    <tr>\n",
       "      <th>78</th>\n",
       "      <td>221593</td>\n",
       "      <td>UBER</td>\n",
       "      <td>The Zacks Analyst Blog Highlights  Advanced Mi...</td>\n",
       "      <td>opinion</td>\n",
       "      <td>[for, immediate, releasechicago, il, january, ...</td>\n",
       "      <td>2020-01-12</td>\n",
       "      <td>Zacks Investment Research</td>\n",
       "      <td>https://www.investing.com/analysis/the-zacks-a...</td>\n",
       "      <td>200498277</td>\n",
       "      <td>4</td>\n",
       "    </tr>\n",
       "    <tr>\n",
       "      <th>82</th>\n",
       "      <td>221597</td>\n",
       "      <td>UBER</td>\n",
       "      <td>The Best Of CES 2020  Revised</td>\n",
       "      <td>opinion</td>\n",
       "      <td>[with, companies, bringing, their, innovations...</td>\n",
       "      <td>2020-01-16</td>\n",
       "      <td>Zacks Investment Research</td>\n",
       "      <td>https://www.investing.com/analysis/the-best-of...</td>\n",
       "      <td>200499164</td>\n",
       "      <td>4</td>\n",
       "    </tr>\n",
       "    <tr>\n",
       "      <th>99</th>\n",
       "      <td>221614</td>\n",
       "      <td>UBER</td>\n",
       "      <td>The Best Of CES 2020</td>\n",
       "      <td>opinion</td>\n",
       "      <td>[with, companies, bringing, their, innovations...</td>\n",
       "      <td>2020-01-10</td>\n",
       "      <td>Zacks Investment Research</td>\n",
       "      <td>https://www.investing.com/analysis/the-best-of...</td>\n",
       "      <td>200498063</td>\n",
       "      <td>4</td>\n",
       "    </tr>\n",
       "    <tr>\n",
       "      <th>133</th>\n",
       "      <td>221648</td>\n",
       "      <td>UBER</td>\n",
       "      <td>For Most U S  Major Indices 2019 Has Been Grea...</td>\n",
       "      <td>opinion</td>\n",
       "      <td>[when, trading, opened, in, investors, were, j...</td>\n",
       "      <td>2019-12-30</td>\n",
       "      <td>Charley Blaine/Investing.com</td>\n",
       "      <td>https://www.investing.com/analysis/for-most-us...</td>\n",
       "      <td>200495364</td>\n",
       "      <td>5</td>\n",
       "    </tr>\n",
       "    <tr>\n",
       "      <th>186</th>\n",
       "      <td>221701</td>\n",
       "      <td>UBER</td>\n",
       "      <td>Japan 2020 Olympics Set To Showcase A New Era ...</td>\n",
       "      <td>opinion</td>\n",
       "      <td>[excitement, is, building, up, for, the, summe...</td>\n",
       "      <td>2019-12-02</td>\n",
       "      <td>Zacks Investment Research</td>\n",
       "      <td>https://www.investing.com/analysis/japan-2020-...</td>\n",
       "      <td>200489212</td>\n",
       "      <td>4</td>\n",
       "    </tr>\n",
       "    <tr>\n",
       "      <th>187</th>\n",
       "      <td>221702</td>\n",
       "      <td>UBER</td>\n",
       "      <td>The Zacks Analyst Blog Highlights  Toyota Moto...</td>\n",
       "      <td>opinion</td>\n",
       "      <td>[for, immediate, releasechicago, il, december,...</td>\n",
       "      <td>2019-12-02</td>\n",
       "      <td>Zacks Investment Research</td>\n",
       "      <td>https://www.investing.com/analysis/the-zacks-a...</td>\n",
       "      <td>200489587</td>\n",
       "      <td>4</td>\n",
       "    </tr>\n",
       "    <tr>\n",
       "      <th>196</th>\n",
       "      <td>221711</td>\n",
       "      <td>UBER</td>\n",
       "      <td>NVIDIA  Greenbrier  Uber  Amazon And Apple Hig...</td>\n",
       "      <td>opinion</td>\n",
       "      <td>[for, immediate, releasechicago, il, november,...</td>\n",
       "      <td>2019-11-25</td>\n",
       "      <td>Zacks Investment Research</td>\n",
       "      <td>https://www.investing.com/analysis/nvidia-gree...</td>\n",
       "      <td>200488165</td>\n",
       "      <td>3</td>\n",
       "    </tr>\n",
       "  </tbody>\n",
       "</table>\n",
       "</div>"
      ],
      "text/plain": [
       "         id ticker                                              title  \\\n",
       "24   221539    NIO  A Central Bank War Just Started And Its Good F...   \n",
       "32   221547    NIO         6 Stocks To Watch  Nivida Could Be Falling   \n",
       "57   221572    NIO  Stocks   Dow Drops Nearly 400 Points as Apple ...   \n",
       "78   221593   UBER  The Zacks Analyst Blog Highlights  Advanced Mi...   \n",
       "82   221597   UBER                     The Best Of CES 2020  Revised    \n",
       "99   221614   UBER                               The Best Of CES 2020   \n",
       "133  221648   UBER  For Most U S  Major Indices 2019 Has Been Grea...   \n",
       "186  221701   UBER  Japan 2020 Olympics Set To Showcase A New Era ...   \n",
       "187  221702   UBER  The Zacks Analyst Blog Highlights  Toyota Moto...   \n",
       "196  221711   UBER  NVIDIA  Greenbrier  Uber  Amazon And Apple Hig...   \n",
       "\n",
       "    category                                            content release_date  \\\n",
       "24   opinion  [ecb, effects, the, move, in, the, euro, was, ...   2019-03-07   \n",
       "32   opinion  [stocks, to, watch, march, trading, session, s...   2019-03-06   \n",
       "57      news  [investing, com, a, rout, in, apple, and, face...   2018-11-19   \n",
       "78   opinion  [for, immediate, releasechicago, il, january, ...   2020-01-12   \n",
       "82   opinion  [with, companies, bringing, their, innovations...   2020-01-16   \n",
       "99   opinion  [with, companies, bringing, their, innovations...   2020-01-10   \n",
       "133  opinion  [when, trading, opened, in, investors, were, j...   2019-12-30   \n",
       "186  opinion  [excitement, is, building, up, for, the, summe...   2019-12-02   \n",
       "187  opinion  [for, immediate, releasechicago, il, december,...   2019-12-02   \n",
       "196  opinion  [for, immediate, releasechicago, il, november,...   2019-11-25   \n",
       "\n",
       "                         provider  \\\n",
       "24                 Michael Kramer   \n",
       "32                 Michael Kramer   \n",
       "57                  Investing.com   \n",
       "78      Zacks Investment Research   \n",
       "82      Zacks Investment Research   \n",
       "99      Zacks Investment Research   \n",
       "133  Charley Blaine/Investing.com   \n",
       "186     Zacks Investment Research   \n",
       "187     Zacks Investment Research   \n",
       "196     Zacks Investment Research   \n",
       "\n",
       "                                                   url  article_id  Topic  \n",
       "24   https://www.investing.com/analysis/a-central-b...   200395687      2  \n",
       "32   https://www.investing.com/analysis/6-stocks-to...   200394931      2  \n",
       "57   https://www.investing.com/news/stock-market-ne...     1694042      2  \n",
       "78   https://www.investing.com/analysis/the-zacks-a...   200498277      4  \n",
       "82   https://www.investing.com/analysis/the-best-of...   200499164      4  \n",
       "99   https://www.investing.com/analysis/the-best-of...   200498063      4  \n",
       "133  https://www.investing.com/analysis/for-most-us...   200495364      5  \n",
       "186  https://www.investing.com/analysis/japan-2020-...   200489212      4  \n",
       "187  https://www.investing.com/analysis/the-zacks-a...   200489587      4  \n",
       "196  https://www.investing.com/analysis/nvidia-gree...   200488165      3  "
      ]
     },
     "execution_count": 34,
     "metadata": {},
     "output_type": "execute_result"
    }
   ],
   "source": [
    "nvidia_df['Topic'] = topic_results.argmax(axis=1)\n",
    "nvidia_df.head(10)"
   ]
  },
  {
   "cell_type": "code",
   "execution_count": 37,
   "metadata": {},
   "outputs": [
    {
     "name": "stdout",
     "output_type": "stream",
     "text": [
      "['ecb', 'effects', 'the', 'move', 'in', 'the', 'euro', 'was', 'huge', 'falling', 'over', 'pips', 'huge', 'but', 'the', 'most', 'important', 'piece', 'here', 'is', 'that', 'the', 'euro', 'broke', 'essential', 'support', 'at', 'i', 'wrote', 'up', 'my', 'thoughts', 'on', 'why', 'the', 'euro', 'could', 'even', 'fall', 'to', 'parity', 'and', 'why', 'the', 'fed', 'may', 'need', 'to', 'cut', 'rates', 'later', 'this', 'year', 'draghi', 'was', 'very', 'dovish', 'today', 'with', 'his', 'outlook', 'so', 'much', 'so', 'that', 'german', 'bunds', 'fell', 'to', 'around', 'bps', 'from', 'bps', 'our', 'year', 'fell', 'to', 'a', 'break', 'below', 'sends', 'the', 'year', 'back', 'to', 'its', 'december', 'lows', 'over', 'time', 'investors', 'should', 'come', 'to', 'realize', 'that', 'rates', 'will', 'remain', 'low', 'and', 'that', 'the', 'fed', 'will', 'need', 'to', 'stay', 'on', 'hold', 'to', 'avoid', 'having', 'the', 'dollar', 'strengthen', 'too', 'much', 'should', 'the', 'dollar', 'rise', 'it', 'will', 'kill', 'off', 'whatever', 'inflationary', 'forces', 'there', 'are', 'while', 'hurting', 'our', 'multinational', 'companies', 'the', 'result', 'may', 'be', 'a', 'fed', 'that', 'needs', 'to', 'cut', 'rates', 'by', 'late', 'to', 'keep', 'the', 'dollar', 'in', 'line', 'versus', 'the', 'euro', 'and', 'avoid', 'this', 'scenario', 'but', 'this', 'should', 'be', 'good', 'for', 'stocks', 'as', 'investors', 'move', 'out', 'on', 'the', 'risk', 'curve', 'and', 'low', 'interest', 'rate', 'foster', 'multiple', 'expansion', 'for', 'stocks', 's', 'p', 'spy', 'nyse', 'spy', 'stocks', 'did', 'end', 'up', 'falling', 'some', 'with', 'the', 's', 'p', 'dropping', 'by', 'roughly', 'basis', 'point', 'to', 'certainly', 'not', 'the', 'end', 'of', 'days', 'but', 'a', 'decline', 'worth', 'noting', 'the', 's', 'p', 'did', 'manage', 'to', 'close', 'at', 'a', 'pretty', 'substantial', 'level', 'of', 'support', 'around', 'remember', 'this', 'was', 'one', 'of', 'the', 'reasons', 'i', 'had', 'some', 'hesitation', 'a', 'couple', 'of', 'weeks', 'backs', 'about', 'the', 'market', 'and', 'a', 'level', 'i', 'tried', 'to', 'keep', 'in', 'the', 'back', 'of', 'everyone', 's', 'mind', 'now', 'that', 'gap', 'is', 'filled', 'what', 'next', 'from', 'my', 'point', 'of', 'view', 'it', 'is', 'now', 'crucial', 'for', 'the', 's', 'p', 'to', 'hold', 'support', 'around', 'this', 'level', 'a', 'drop', 'below', 'that', 'support', 'zone', 'gets', 'things', 'moving', 'to', 'the', 'downside', 'with', 'the', 'potential', 'for', 'a', 'drop', 'below', 'russell', 'iwm', 'the', 'russell', 's', 'decline', 'was', 'the', 'most', 'noticeable', 'because', 'it', 'did', 'fall', 'below', 'that', 'level', 'of', 'support', 'i', 'had', 'noted', 'last', 'night', 'at', 'the', 'russell', 's', 'drop', 'has', 'me', 'much', 'more', 'concerned', 'than', 'the', 's', 'p', 'at', 'this', 'point', 'the', 'chart', 'now', 'suggestions', 'that', 'the', 'index', 'could', 'drop', 'by', 'another', 'to', 'around', 'there', 'is', 'a', 'minor', 'support', 'level', 'about', 'at', 'but', 'i', 'have', 'no', 'confidence', 'in', 'that', 'level', 'acting', 'as', 'anything', 'substantial', 'i', 'know', 'doesn', 't', 'sound', 'like', 'much', 'but', 'consider', 'that', 'the', 'russell', 'was', 'at', 'on', 'february', 'when', 'you', 'think', 'about', 'that', 'way', 'we', 'are', 'talking', 'about', 'a', 'nearly', 'drop', 'from', 'that', 'peak', 'you', 'can', 'even', 'make', 'a', 'case', 'for', 'the', 'russell', 'to', 'drop', 'back', 'to', 'around', 'a', 'full', 'off', 'those', 'february', 'highs', 'but', 'it', 'would', 'create', 'a', 'very', 'bullish', 'pattern', 'known', 'a', 'reverse', 'head', 'and', 'shoulders', 'that', 'could', 'eventually', 'lead', 'to', 'higher', 'prices', 'down', 'the', 'road', 'again', 'my', 'outlook', 'for', 'the', 'full', 'year', 'continues', 'to', 'suggest', 'stock', 'will', 'continue', 'to', 'head', 'higher', 'that', 'is', 'not', 'to', 'say', 'there', 'will', 'not', 'be', 'pullbacks', 'along', 'the', 'way', 'nio', 'nyse', 'nio', 'nio', 'continues', 'to', 'deflate', 'and', 'it', 'looks', 'like', 'it', 'may', 'be', 'possible', 'now', 'for', 'a', 'drop', 'to', 'splunk', 'nasdaq', 'splk', 'splunk', 'is', 'nearing', 'a', 'potentially', 'big', 'breakdown', 'should', 'it', 'fall', 'below', 'potentially', 'to', 'facebook', 'nasdaq', 'fb', 'facebook', 'was', 'lower', 'today', 'and', 'the', 'stock', 'is', 'looking', 'more', 'and', 'more', 'as', 'if', 'filling', 'the', 'gap', 'at', 'is', 'around', 'the', 'corner', 'netflix', 'nasdaq', 'nflx', 'netflix', 'was', 'also', 'down', 'today', 'falling', 'back', 'to', 'the', 'stock', 'has', 'looked', 'very', 'weak', 'and', 'a', 'drop', 'to', 'seems', 'possible', 'still', 'apple', 'nasdaq', 'aapl', 'apple', 'got', 'as', 'high', 'as', 'pretty', 'close', 'but', 'no', 'cigar', 'to', 'the', 'i', 'was', 'looking', 'for', 'now', 'the', 'stock', 'is', 'sitting', 'on', 'an', 'uptrend', 'and', 'a', 'break', 'of', 'that', 'uptrend', 'pushes', 'the', 'shares', 'back', 'to', 'jd', 'jd', 'jd', 'is', 'still', 'looking', 'as', 'if', 'it', 'could', 'drop', 'to', 'around', 'over', 'the', 'coming', 'days', 'nvidia', 'corporation', 'nasdaq', 'nvda', 'finally', 'nvidia', 'did', 'fall', 'below', 'today', 'and', 'i', 'm', 'still', 'looking', 'for', 'that', 'to', 'region', 'see', 'you', 'on', 'jobs', 'friday', 'original', 'post']\n"
     ]
    }
   ],
   "source": [
    "print(nvidia_df['content'][24])"
   ]
  },
  {
   "cell_type": "code",
   "execution_count": null,
   "metadata": {},
   "outputs": [],
   "source": []
  }
 ],
 "metadata": {
  "kernelspec": {
   "display_name": "Python 3 (ipykernel)",
   "language": "python",
   "name": "python3"
  },
  "language_info": {
   "codemirror_mode": {
    "name": "ipython",
    "version": 3
   },
   "file_extension": ".py",
   "mimetype": "text/x-python",
   "name": "python",
   "nbconvert_exporter": "python",
   "pygments_lexer": "ipython3",
   "version": "3.12.4"
  }
 },
 "nbformat": 4,
 "nbformat_minor": 4
}

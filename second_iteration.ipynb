{
 "cells": [
  {
   "cell_type": "markdown",
   "metadata": {},
   "source": [
    "# Necassary Imports"
   ]
  },
  {
   "cell_type": "code",
   "execution_count": 1,
   "metadata": {},
   "outputs": [
    {
     "name": "stderr",
     "output_type": "stream",
     "text": [
      "[nltk_data] Downloading package punkt to\n",
      "[nltk_data]     C:\\Users\\bvits\\AppData\\Roaming\\nltk_data...\n",
      "[nltk_data]   Package punkt is already up-to-date!\n",
      "[nltk_data] Downloading package punkt_tab to\n",
      "[nltk_data]     C:\\Users\\bvits\\AppData\\Roaming\\nltk_data...\n",
      "[nltk_data]   Package punkt_tab is already up-to-date!\n",
      "[nltk_data] Downloading package stopwords to\n",
      "[nltk_data]     C:\\Users\\bvits\\AppData\\Roaming\\nltk_data...\n",
      "[nltk_data]   Package stopwords is already up-to-date!\n"
     ]
    }
   ],
   "source": [
    "# Imports\n",
    "import gensim\n",
    "import numpy as np\n",
    "import pandas as pd\n",
    "import matplotlib.pyplot as plt\n",
    "import seaborn as sns\n",
    "\n",
    "import nltk\n",
    "from nltk.corpus import stopwords\n",
    "from nltk.tokenize import word_tokenize\n",
    "nltk.download('punkt')\n",
    "nltk.download('punkt_tab')\n",
    "nltk.download('stopwords')\n",
    "stop_words = set(stopwords.words('english'))\n",
    "\n",
    "import re\n",
    "#import inflect\n",
    "#from num2words import num2words\n",
    "from nltk.corpus import stopwords\n",
    "from collections import Counter\n",
    "\n",
    "import sklearn\n",
    "\n",
    "from gensim.models import Word2Vec\n",
    "\n",
    "from sklearn.model_selection import ParameterSampler\n",
    "from sklearn.feature_extraction.text import TfidfVectorizer\n",
    "from sklearn.metrics.pairwise import cosine_similarity\n",
    "\n",
    "from sklearn.model_selection import train_test_split\n",
    "from sklearn.naive_bayes import MultinomialNB\n",
    "from sklearn.linear_model import LogisticRegression\n",
    "from sklearn.metrics import accuracy_score, precision_score, recall_score, f1_score, classification_report\n",
    "from sklearn.model_selection import cross_val_score\n",
    "from sklearn.feature_extraction.text import CountVectorizer\n",
    "from sklearn.model_selection import RandomizedSearchCV\n",
    "\n",
    "from nltk.stem import WordNetLemmatizer\n",
    "import nltk \n"
   ]
  },
  {
   "cell_type": "markdown",
   "metadata": {},
   "source": [
    "# Necassary preprocessing steps"
   ]
  },
  {
   "cell_type": "code",
   "execution_count": 2,
   "metadata": {},
   "outputs": [],
   "source": [
    "# Import data\n",
    "df = pd.read_csv('us_equities_news_dataset.csv')"
   ]
  },
  {
   "cell_type": "code",
   "execution_count": 3,
   "metadata": {},
   "outputs": [],
   "source": [
    "# Filter out Nvidia articles\n",
    "nvidia_df = df[df['title'].str.contains('NVIDIA|NVDA', case=False, na=False) |\n",
    "               df['content'].str.contains('NVIDIA|NVDA', case=False, na=False) |\n",
    "               df['ticker'].str.contains('NVIDIA|NVDA', case=False, na=False)]"
   ]
  },
  {
   "cell_type": "code",
   "execution_count": 4,
   "metadata": {},
   "outputs": [
    {
     "name": "stdout",
     "output_type": "stream",
     "text": [
      "3464\n"
     ]
    }
   ],
   "source": [
    "print(len(nvidia_df))"
   ]
  },
  {
   "cell_type": "code",
   "execution_count": 5,
   "metadata": {},
   "outputs": [
    {
     "name": "stderr",
     "output_type": "stream",
     "text": [
      "C:\\Users\\bvits\\AppData\\Local\\Temp\\ipykernel_13832\\2458803087.py:23: SettingWithCopyWarning: \n",
      "A value is trying to be set on a copy of a slice from a DataFrame.\n",
      "Try using .loc[row_indexer,col_indexer] = value instead\n",
      "\n",
      "See the caveats in the documentation: https://pandas.pydata.org/pandas-docs/stable/user_guide/indexing.html#returning-a-view-versus-a-copy\n",
      "  nvidia_df['content'] = nvidia_df['title'] + ' ' + nvidia_df['content']\n",
      "C:\\Users\\bvits\\AppData\\Local\\Temp\\ipykernel_13832\\2458803087.py:24: SettingWithCopyWarning: \n",
      "A value is trying to be set on a copy of a slice from a DataFrame.\n",
      "Try using .loc[row_indexer,col_indexer] = value instead\n",
      "\n",
      "See the caveats in the documentation: https://pandas.pydata.org/pandas-docs/stable/user_guide/indexing.html#returning-a-view-versus-a-copy\n",
      "  nvidia_df['content'] = nvidia_df['content'].apply(preprocess_text_iteration1)\n",
      "C:\\Users\\bvits\\AppData\\Local\\Temp\\ipykernel_13832\\2458803087.py:43: SettingWithCopyWarning: \n",
      "A value is trying to be set on a copy of a slice from a DataFrame.\n",
      "Try using .loc[row_indexer,col_indexer] = value instead\n",
      "\n",
      "See the caveats in the documentation: https://pandas.pydata.org/pandas-docs/stable/user_guide/indexing.html#returning-a-view-versus-a-copy\n",
      "  nvidia_df['content'] = nvidia_df['content'].apply(filter_content)\n"
     ]
    }
   ],
   "source": [
    "#Pre processing steps\n",
    "def preprocess_text_iteration1(text):\n",
    "    text = text.strip()\n",
    "    # Replace URLs with an empty string\n",
    "    re.sub(r'http\\S+|www\\S+|https\\S+', '', text, flags=re.MULTILINE)\n",
    "    words = word_tokenize(text.lower())\n",
    "    #check if the word is alpha numeric\n",
    "    alpha_words = [word for word in words if word.isalpha()]\n",
    "    #remove numbers\n",
    "    numbers_words = [word for word in alpha_words if not word.isdigit()]\n",
    "    #stop words removal\n",
    "    stop_words = set(stopwords.words('english'))\n",
    "    stop_words_removed = [word for word in numbers_words if not word in stop_words]\n",
    "    #add lemmatization\n",
    "    lemmatizer = WordNetLemmatizer()\n",
    "    lemmatized_words = [lemmatizer.lemmatize(word) for word in stop_words_removed]\n",
    "\n",
    "    return lemmatized_words\n",
    "\n",
    "# apply preprocessing\n",
    "\n",
    "# include title in \"content\"\n",
    "nvidia_df['content'] = nvidia_df['title'] + ' ' + nvidia_df['content']\n",
    "nvidia_df['content'] = nvidia_df['content'].apply(preprocess_text_iteration1)\n",
    "\n",
    "## Remove words that appear too frequently or too infrequently\n",
    "# Count the frequency of each word\n",
    "all_words = [word for content in nvidia_df['content'] for word in content]\n",
    "word_freq = Counter(all_words)\n",
    "\n",
    "# Define thresholds (play around with these)\n",
    "min_freq = 5\n",
    "max_freq = 0.7 * len(nvidia_df)\n",
    "\n",
    "# Filter words based on frequency\n",
    "filtered_words = {word for word, freq in word_freq.items() if min_freq <= freq <= max_freq}\n",
    "\n",
    "# Update the DataFrame with filtered words\n",
    "def filter_content(content):\n",
    "    return [word for word in content if word in filtered_words]\n",
    "\n",
    "\n",
    "nvidia_df['content'] = nvidia_df['content'].apply(filter_content)\n"
   ]
  },
  {
   "cell_type": "code",
   "execution_count": 6,
   "metadata": {},
   "outputs": [
    {
     "name": "stdout",
     "output_type": "stream",
     "text": [
      "[[0 0 0 ... 0 0 0]\n",
      " [0 0 0 ... 0 0 0]\n",
      " [0 0 0 ... 0 0 0]\n",
      " ...\n",
      " [0 0 0 ... 0 0 0]\n",
      " [0 0 0 ... 0 0 0]\n",
      " [0 0 0 ... 0 0 0]]\n"
     ]
    }
   ],
   "source": [
    "#create a document term matrix\n",
    "vectorizer = CountVectorizer()\n",
    "X = vectorizer.fit_transform(nvidia_df['content'].apply(lambda x: ' '.join(x)))\n",
    "print(X.toarray())"
   ]
  },
  {
   "cell_type": "markdown",
   "metadata": {},
   "source": [
    "## LDA"
   ]
  },
  {
   "cell_type": "code",
   "execution_count": 7,
   "metadata": {},
   "outputs": [
    {
     "name": "stdout",
     "output_type": "stream",
     "text": [
      "[['point', 'percent', 'close', 'trading', 'fell', 'rose', 'dow', 'oil', 'future', 'friday'], ['current', 'portfolio', 'past', 'performance', 'today', 'security', 'value', 'firm', 'return', 'eps'], ['fiscal', 'reported', 'cent', 'positive', 'solution', 'cloud', 'demand', 'margin', 'corporation', 'gaap'], ['etf', 'fund', 'traded', 'past', 'read', 'holding', 'volume', 'exposure', 'since', 'global'], ['driving', 'car', 'google', 'self', 'ai', 'vehicle', 'amazon', 'facebook', 'autonomous', 'device']]\n",
      "Topic 0: point percent close trading fell rose dow oil future friday\n",
      "Topic 1: current portfolio past performance today security value firm return eps\n",
      "Topic 2: fiscal reported cent positive solution cloud demand margin corporation gaap\n",
      "Topic 3: etf fund traded past read holding volume exposure since global\n",
      "Topic 4: driving car google self ai vehicle amazon facebook autonomous device\n",
      "[[9.97010036e-01 7.46315347e-04 7.47834787e-04 7.55076533e-04\n",
      "  7.40737759e-04]\n",
      " [7.83877570e-01 6.62076775e-02 9.87000567e-04 1.00015668e-03\n",
      "  1.47927595e-01]\n",
      " [9.36149020e-01 8.69082592e-04 8.67373115e-04 8.77118417e-04\n",
      "  6.12374054e-02]\n",
      " ...\n",
      " [1.00015813e-01 8.97745746e-01 7.43655868e-04 7.55344549e-04\n",
      "  7.39441028e-04]\n",
      " [3.34379320e-04 9.37937209e-01 3.37681793e-04 6.10548377e-02\n",
      "  3.35892481e-04]\n",
      " [5.75028468e-04 7.81962975e-01 5.80757211e-04 2.16304090e-01\n",
      "  5.77149507e-04]]\n"
     ]
    },
    {
     "data": {
      "image/png": "[encoded data removed]",
      "text/plain": [
       "<Figure size 1000x500 with 1 Axes>"
      ]
     },
     "metadata": {},
     "output_type": "display_data"
    }
   ],
   "source": [
    "# train LDAModel\n",
    "from sklearn.decomposition import LatentDirichletAllocation\n",
    "lda = LatentDirichletAllocation(n_components=5, random_state=0) #once I can run zeroth it, change n_components to something else\n",
    "lda.fit(X)\n",
    "\n",
    "# get topics\n",
    "def get_topics(model, vectorizer, n_top_words):\n",
    "    words = vectorizer.get_feature_names_out()\n",
    "    topics = []\n",
    "    for topic in model.components_:\n",
    "        topic_words = [words[i] for i in topic.argsort()[:-n_top_words - 1:-1]]\n",
    "        topics.append(topic_words)\n",
    "    return topics\n",
    "\n",
    "topics = get_topics(lda, vectorizer, 10)\n",
    "print(topics)\n",
    "for i, topic in enumerate(topics):\n",
    "    print('Topic {}: {}'.format(i, ' '.join(topic)))\n",
    "\n",
    "\n",
    "# get topic distribution for each document\n",
    "topic_dist = lda.transform(X)\n",
    "print(topic_dist)\n",
    "\n",
    "# plot the distribution of topics\n",
    "plt.figure(figsize=(10, 5))\n",
    "sns.histplot(topic_dist.argmax(axis=1), bins=5)\n",
    "plt.xlabel('Topic')\n",
    "plt.ylabel('Number of documents')\n",
    "plt.title('Distribution of topics')\n",
    "plt.show()\n",
    "\n"
   ]
  },
  {
   "cell_type": "code",
   "execution_count": 8,
   "metadata": {},
   "outputs": [],
   "source": [
    "# create a cluster plot for the topics\n",
    "\n",
    "#if we have more time we look this because it is a cool plot (we don't fully understand it because copilot made it)\n",
    "\n",
    "# from sklearn.manifold import TSNE\n",
    "# tsne = TSNE(n_components=2, random_state=0)\n",
    "# tsne_embedding = tsne.fit_transform(topic_dist)\n",
    "# plt.figure(figsize=(10, 5))\n",
    "# sns.scatterplot(x=tsne_embedding[:, 0], y=tsne_embedding[:, 1], hue=topic_dist.argmax(axis=1), palette='tab10')\n",
    "# plt.xlabel('t-SNE component 1')\n",
    "# plt.ylabel('t-SNE component 2')\n",
    "# plt.title('t-SNE plot of topics')\n",
    "# plt.show()"
   ]
  },
  {
   "cell_type": "markdown",
   "metadata": {},
   "source": [
    "## FLSA-W"
   ]
  },
  {
   "cell_type": "code",
   "execution_count": 9,
   "metadata": {},
   "outputs": [],
   "source": [
    "# FuzzyTM FLSA-W\n",
    "from FuzzyTM import FLSA_W\n",
    "\n",
    "# Coherence and Diversity\n",
    "\n"
   ]
  },
  {
   "cell_type": "code",
   "execution_count": 10,
   "metadata": {},
   "outputs": [],
   "source": [
    "\n",
    "\n",
    "# create a FLSA-W model (based on the previous iteration, we can conclude that 5 topics is best)\n",
    "# We continue with 5 topics since we notice the coherence is highest, and the diversity is also good (but not the highest)\n",
    "flsaW = FLSA_W(\n",
    "input_file = nvidia_df['content'].to_list(),\n",
    "num_topics=5,\n",
    "num_words=10,\n",
    ")"
   ]
  },
  {
   "cell_type": "code",
   "execution_count": 11,
   "metadata": {},
   "outputs": [
    {
     "name": "stdout",
     "output_type": "stream",
     "text": [
      "[(0, '0.0033*\"compared\" + 0.0033*\"adoption\" + 0.0032*\"gaming\" + 0.0031*\"basis\" + 0.0031*\"computing\" + 0.0029*\"ago\" + 0.0028*\"segment\" + 0.0028*\"believe\" + 0.0027*\"significant\" + 0.0027*\"fourth\"'), (1, '0.0182*\"generation\" + 0.0161*\"margin\" + 0.0156*\"expect\" + 0.0144*\"executive\" + 0.0143*\"gross\" + 0.0142*\"know\" + 0.0136*\"half\" + 0.0135*\"think\" + 0.013*\"chief\" + 0.013*\"server\"'), (2, '0.0017*\"corporation\" + 0.0016*\"investing\" + 0.0015*\"corp\" + 0.0015*\"gained\" + 0.0015*\"com\" + 0.0014*\"surged\" + 0.0014*\"released\" + 0.0014*\"point\" + 0.0013*\"added\" + 0.0013*\"boost\"'), (3, '0.0006*\"inbox\" + 0.0005*\"previously\" + 0.0005*\"phlx\" + 0.0005*\"amat\" + 0.0005*\"ratio\" + 0.0005*\"contract\" + 0.0005*\"ltd\" + 0.0005*\"advancing\" + 0.0005*\"bac\" + 0.0005*\"gmt\"'), (4, '0.0004*\"premarket\" + 0.0003*\"unveils\" + 0.0003*\"smh\" + 0.0003*\"uncover\" + 0.0003*\"conclusively\" + 0.0003*\"esp\" + 0.0003*\"avoided\" + 0.0003*\"soxx\" + 0.0003*\"strategiesit\" + 0.0003*\"delve\"')]\n"
     ]
    }
   ],
   "source": [
    "flsaW.get_vocabulary_size()\n",
    "pwgt, ptgd = flsaW.get_matrices() # THIS TRAINS THE MODEL\n",
    "print(flsaW.show_topics())\n"
   ]
  },
  {
   "cell_type": "markdown",
   "metadata": {},
   "source": [
    "## Compute Diversity, Coherence, Interpretability for FLSA-W and LDA"
   ]
  },
  {
   "cell_type": "code",
   "execution_count": null,
   "metadata": {},
   "outputs": [
    {
     "name": "stdout",
     "output_type": "stream",
     "text": [
      "['compared', 'adoption', 'gaming', 'basis', 'computing', 'ago', 'segment', 'believe', 'significant', 'fourth']\n",
      "['generation', 'margin', 'expect', 'executive', 'gross', 'know', 'half', 'think', 'chief', 'server']\n",
      "['corporation', 'investing', 'corp', 'gained', 'com', 'surged', 'released', 'point', 'added', 'boost']\n",
      "['inbox', 'previously', 'phlx', 'amat', 'ratio', 'contract', 'ltd', 'advancing', 'bac', 'gmt']\n",
      "['premarket', 'unveils', 'smh', 'uncover', 'conclusively', 'esp', 'avoided', 'soxx', 'strategiesit', 'delve']\n"
     ]
    }
   ],
   "source": [
    "for topic in flsaW.show_topics(representation='words'):\n",
    "    print(topic)\n",
    "\n",
    "\n",
    "print(flsaW.get_coherence_score()) # ask if this has to be high\n",
    "print(flsaW.get_diversity_score()) # ask if this has to be high\n",
    "print(flsaW.get_interpretability_score()) # ask if this has to be high\n",
    "\n",
    "\n"
   ]
  },
  {
   "cell_type": "code",
   "execution_count": null,
   "metadata": {},
   "outputs": [],
   "source": [
    "#coherence for lda (we make sure tha the content is the same as the content used to train FLSA-W and LDA)\n",
    "coherence_lda = flsaW.get_coherence_score(\n",
    "nvidia_df['content'].to_list(),\n",
    "topics)\n",
    "\n",
    "print(coherence_lda)"
   ]
  },
  {
   "cell_type": "code",
   "execution_count": null,
   "metadata": {},
   "outputs": [],
   "source": [
    "#diversity for lda (we make sure tha the content is the same as the content used to train FLSA-W and LDA)\n",
    "diversity_lda = flsaW.get_diversity_score(topics)\n",
    "print(diversity_lda)"
   ]
  },
  {
   "cell_type": "code",
   "execution_count": null,
   "metadata": {},
   "outputs": [],
   "source": [
    "#lda interpretability\n",
    "interpretability_lda = diversity_lda * coherence_lda\n",
    "print(interpretability_lda)"
   ]
  },
  {
   "cell_type": "markdown",
   "metadata": {},
   "source": [
    "## Elbow plots (FLSA-W and LDA)"
   ]
  },
  {
   "cell_type": "code",
   "execution_count": null,
   "metadata": {},
   "outputs": [],
   "source": [
    "#elbow plot for FLSA-W\n",
    "range_n_topics = range(1, 11)\n",
    "\n",
    "# Create a list of coherence values\n",
    "coherences = []\n",
    "for n_topics in range_n_topics:\n",
    "    #train model\n",
    "    print(n_topics)\n",
    "    flsaW_elbow = FLSA_W(\n",
    "    input_file = nvidia_df['content'].to_list(),\n",
    "    num_topics=n_topics,\n",
    "    num_words=10,\n",
    "    )\n",
    "    flsaW_elbow.get_vocabulary_size()\n",
    "    pwgt, ptgd = flsaW_elbow.get_matrices() # THIS TRAINS THE MODEL\n",
    "    #get coherence\n",
    "    coherence = flsaW_elbow.get_coherence_score()\n",
    "    coherences.append(coherence)\n",
    "\n",
    "# Plot the elbow plot\n",
    "plt.figure(figsize=(8, 6))\n",
    "plt.plot(range_n_topics, coherences, 'bx-')\n",
    "plt.xlabel('Number of topics')\n",
    "plt.ylabel('Coherence')\n",
    "plt.title('Elbow Method For Optimal Number of Topics FLSA-W iteration 2')\n",
    "plt.show()\n"
   ]
  },
  {
   "cell_type": "code",
   "execution_count": null,
   "metadata": {},
   "outputs": [],
   "source": [
    "#elbow plot for diversity\n",
    "\n",
    "#elbow plot for FLSA-W\n",
    "range_n_topics = range(1, 11)\n",
    "\n",
    "# Create a list of diversity values\n",
    "diversities = []\n",
    "for n_topics in range_n_topics:\n",
    "    print(n_topics)\n",
    "    #train model\n",
    "    flsaW_elbow = FLSA_W(\n",
    "    input_file = nvidia_df['content'].to_list(),\n",
    "    num_topics=n_topics,\n",
    "    num_words=10,\n",
    "    )\n",
    "    flsaW_elbow.get_vocabulary_size()\n",
    "    pwgt, ptgd = flsaW_elbow.get_matrices() # THIS TRAINS THE MODEL\n",
    "    #get diversity\n",
    "    diversity = flsaW_elbow.get_diversity_score()\n",
    "    diversities.append(diversity)\n",
    "\n",
    "# Plot the elbow plot\n",
    "plt.figure(figsize=(8, 6))\n",
    "plt.plot(range_n_topics, diversities, 'bx-')\n",
    "plt.xlabel('Number of topics')\n",
    "plt.ylabel('Diversity')\n",
    "plt.title('Elbow Method For Optimal Number of Topics FLSA-W iteration 2')\n",
    "plt.show()\n"
   ]
  },
  {
   "cell_type": "code",
   "execution_count": null,
   "metadata": {},
   "outputs": [],
   "source": [
    "#elbow plot for interpretability\n",
    "range_n_topics = range(1, 11)\n",
    "#elbow plot for FLSA-W\n",
    "interpretabilities = []\n",
    "for i in range_n_topics:\n",
    "    print(i)\n",
    "    interpretability =  coherences[i-1]*diversities[i-1]\n",
    "    interpretabilities.append(interpretability)\n",
    "\n",
    "# Plot the elbow plot\n",
    "plt.figure(figsize=(8, 6))\n",
    "plt.plot(range_n_topics, interpretabilities, 'bx-')\n",
    "plt.xlabel('Number of topics')\n",
    "plt.ylabel('Interpretability')\n",
    "plt.title('Elbow Method For Optimal Number of Topics FLSA-W iteration 2')\n",
    "plt.show()"
   ]
  },
  {
   "cell_type": "markdown",
   "metadata": {},
   "source": [
    "## LDA"
   ]
  },
  {
   "cell_type": "code",
   "execution_count": null,
   "metadata": {},
   "outputs": [],
   "source": [
    "#elbow plot for coherence\n",
    "\n",
    "#elbow plot for LDA\n",
    "range_n_topics = range(1, 11)\n",
    "\n",
    "# Create a list of coherence values\n",
    "coherences = []\n",
    "for n_topics in range_n_topics:\n",
    "    print(n_topics)\n",
    "    #train model\n",
    "    lda = LatentDirichletAllocation(n_components=n_topics, random_state=0)\n",
    "    lda.fit(X)\n",
    "    #get coherence\n",
    "    topics = get_topics(lda, vectorizer, 10)\n",
    "\n",
    "    coherence = flsaW.get_coherence_score(\n",
    "    nvidia_df['content'].to_list(),\n",
    "    topics)\n",
    "    coherences.append(coherence)\n",
    "\n",
    "# Plot the elbow plot\n",
    "plt.figure(figsize=(8, 6))\n",
    "plt.plot(range_n_topics, coherences, 'bx-')\n",
    "plt.xlabel('Number of topics')\n",
    "plt.ylabel('Coherence')\n",
    "plt.title('Elbow Method For Optimal Number of Topics LDA iteration 2')\n",
    "plt.show()\n"
   ]
  },
  {
   "cell_type": "code",
   "execution_count": null,
   "metadata": {},
   "outputs": [],
   "source": [
    "#elbow plot for diversity\n",
    "\n",
    "#elbow plot for LDA\n",
    "range_n_topics = range(1, 11)\n",
    "\n",
    "# Create a list of diversity values\n",
    "diversities = []\n",
    "for n_topics in range_n_topics:\n",
    "    print(n_topics)\n",
    "    #train model\n",
    "    lda = LatentDirichletAllocation(n_components=n_topics, random_state=0)\n",
    "    lda.fit(X)\n",
    "    #get diversity\n",
    "    topics = get_topics(lda, vectorizer, 10)\n",
    "\n",
    "    diversity = flsaW.get_diversity_score(\n",
    "    \n",
    "    topics)\n",
    "    diversities.append(diversity)\n",
    "\n",
    "# Plot the elbow plot\n",
    "plt.figure(figsize=(8, 6))\n",
    "plt.plot(range_n_topics, diversities, 'bx-')\n",
    "plt.xlabel('Number of topics')\n",
    "plt.ylabel('Diversity')\n",
    "plt.title('Elbow Method For Optimal Number of Topics LDA iteration 2')\n",
    "plt.show()"
   ]
  },
  {
   "cell_type": "code",
   "execution_count": null,
   "metadata": {},
   "outputs": [],
   "source": [
    "#elbow plot for interpretability\n",
    "\n",
    "#elbow plot for LDA\n",
    "interpretabilities = []\n",
    "for i in range_n_topics:\n",
    "    interpretability = coherences[i-1] * diversities[i-1]\n",
    "    interpretabilities.append(interpretability)\n",
    "\n",
    "# Plot the elbow plot\n",
    "plt.figure(figsize=(8, 6))\n",
    "plt.plot(range_n_topics, interpretabilities, 'bx-')\n",
    "plt.xlabel('Number of topics')\n",
    "plt.ylabel('Interpretability')\n",
    "plt.title('Elbow Method For Optimal Number of Topics LDA iteration 2')\n",
    "plt.show()"
   ]
  },
  {
   "cell_type": "markdown",
   "metadata": {},
   "source": [
    "They remain stable. It would be interesting to write a discussion. (there is little variation why?)"
   ]
  },
  {
   "cell_type": "markdown",
   "metadata": {},
   "source": [
    "## Bert Topic"
   ]
  },
  {
   "cell_type": "code",
   "execution_count": null,
   "metadata": {},
   "outputs": [],
   "source": [
    "from bertopic import BERTopic\n",
    "from umap import UMAP\n",
    "umap_model = UMAP(n_neighbors=15, n_components=5, min_dist=0.0, metric='cosine', random_state=0)\n",
    "docs = [' '.join(doc) for doc in nvidia_df['content']]\n",
    "# Create the model (uses DistilBERT by default)\n",
    "bert_topic = BERTopic(umap_model=umap_model)\n",
    "# Train the model and transform your data into topics\n",
    "topic_assigned_to_doc, _ = bert_topic.fit_transform(docs)\n",
    "topic_matrix = bert_topic.get_topic_info()\n",
    "bert_topic.get_topics()\n",
    "\n"
   ]
  },
  {
   "cell_type": "code",
   "execution_count": null,
   "metadata": {},
   "outputs": [],
   "source": [
    "print(topic_matrix)"
   ]
  },
  {
   "cell_type": "code",
   "execution_count": null,
   "metadata": {},
   "outputs": [],
   "source": [
    "bert_topic.visualize_heatmap(n_clusters=15)"
   ]
  },
  {
   "cell_type": "code",
   "execution_count": null,
   "metadata": {},
   "outputs": [],
   "source": [
    "topic_matrix.head(10)"
   ]
  },
  {
   "cell_type": "code",
   "execution_count": null,
   "metadata": {},
   "outputs": [],
   "source": [
    "# print the name of the topic matrix and the representative docs using for loop\n",
    "for i in range(0, 11):\n",
    "    print(topic_matrix['Name'][i])\n",
    "    print(topic_matrix['Representative_Docs'][i])\n",
    "    print('')"
   ]
  },
  {
   "cell_type": "code",
   "execution_count": null,
   "metadata": {},
   "outputs": [],
   "source": [
    "#create a list of the first 10 representative docs\n",
    "rep_docs = topic_matrix['Representation'][1:10].to_list()\n",
    "print(rep_docs)\n",
    "\n",
    "\n"
   ]
  },
  {
   "cell_type": "code",
   "execution_count": null,
   "metadata": {},
   "outputs": [],
   "source": [
    "#bert coherence --> just say we tried, in the end it doesn't matter I tried hard and got so far \n",
    "print(\n",
    "flsaW.get_coherence_score(\n",
    "nvidia_df['content'].to_list(),\n",
    "rep_docs[0:4])\n",
    ")\n",
    "\n"
   ]
  },
  {
   "cell_type": "code",
   "execution_count": null,
   "metadata": {},
   "outputs": [],
   "source": [
    "#bert diversity\n",
    "print(flsaW.get_diversity_score(rep_docs[0:4]))"
   ]
  },
  {
   "cell_type": "code",
   "execution_count": null,
   "metadata": {},
   "outputs": [],
   "source": [
    "#elbow plot for coherence\n",
    "\n",
    "#elbow plot for Bert\n",
    "range_n_topics = range(1, 11)\n",
    "\n",
    "# Create a list of coherence values\n",
    "coherences = []\n",
    "for n_topics in range_n_topics:\n",
    "    print(n_topics)\n",
    "    #get coherence\n",
    "    coherence = flsaW.get_coherence_score(\n",
    "    nvidia_df['content'].to_list(),\n",
    "    rep_docs[0:n_topics])\n",
    "    coherences.append(coherence)\n",
    "\n",
    "# Plot the elbow plot\n",
    "plt.figure(figsize=(8, 6))\n",
    "plt.plot(range_n_topics, coherences, 'bx-')\n",
    "plt.xlabel('Number of topics')\n",
    "plt.ylabel('Coherence')\n",
    "plt.title('Elbow Method For Optimal Number of Topics Bert iteration 2')\n",
    "plt.show()\n"
   ]
  },
  {
   "cell_type": "markdown",
   "metadata": {},
   "source": [
    "topic"
   ]
  },
  {
   "cell_type": "code",
   "execution_count": null,
   "metadata": {},
   "outputs": [],
   "source": [
    "#elbow plot for diversity\n",
    "\n",
    "#elbow plot for Bert\n",
    "range_n_topics = range(1, 11)\n",
    "\n",
    "# Create a list of diversity values\n",
    "diversities = []\n",
    "for n_topics in range_n_topics:\n",
    "    print(n_topics)\n",
    "    #get diversity\n",
    "    diversity = flsaW.get_diversity_score(rep_docs[0:n_topics])\n",
    "    diversities.append(diversity)\n",
    "\n",
    "# Plot the elbow plot\n",
    "plt.figure(figsize=(8, 6))\n",
    "plt.plot(range_n_topics, diversities, 'bx-')\n",
    "plt.xlabel('Number of topics')\n",
    "plt.ylabel('Diversity')\n",
    "plt.title('Elbow Method For Optimal Number of Topics Bert iteration 2')\n",
    "plt.show()"
   ]
  },
  {
   "cell_type": "code",
   "execution_count": null,
   "metadata": {},
   "outputs": [],
   "source": [
    "#elbow plot for interpretability\n",
    "\n",
    "#elbow plot for LDA\n",
    "interpretabilities = []\n",
    "for i in range_n_topics:\n",
    "    interpretability = coherences[i-1] * diversities[i-1]\n",
    "    interpretabilities.append(interpretability)\n",
    "\n",
    "# Plot the elbow plot\n",
    "plt.figure(figsize=(8, 6))\n",
    "plt.plot(range_n_topics, interpretabilities, 'bx-')\n",
    "plt.xlabel('Number of topics')\n",
    "plt.ylabel('Interpretability')\n",
    "plt.title('Elbow Method For Optimal Number of Topics Bert iteration 2')\n",
    "plt.show()"
   ]
  }
 ],
 "metadata": {
  "kernelspec": {
   "display_name": ".venv",
   "language": "python",
   "name": "python3"
  },
  "language_info": {
   "codemirror_mode": {
    "name": "ipython",
    "version": 3
   },
   "file_extension": ".py",
   "mimetype": "text/x-python",
   "name": "python",
   "nbconvert_exporter": "python",
   "pygments_lexer": "ipython3",
   "version": "3.12.4"
  }
 },
 "nbformat": 4,
 "nbformat_minor": 2
}

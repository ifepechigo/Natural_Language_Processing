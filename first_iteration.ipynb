{
 "cells": [
  {
   "cell_type": "markdown",
   "metadata": {},
   "source": [
    "# Necassary Imports"
   ]
  },
  {
   "cell_type": "code",
   "execution_count": 1,
   "metadata": {},
   "outputs": [
    {
     "name": "stderr",
     "output_type": "stream",
     "text": [
      "[nltk_data] Downloading package punkt to\n",
      "[nltk_data]     C:\\Users\\bvits\\AppData\\Roaming\\nltk_data...\n",
      "[nltk_data]   Package punkt is already up-to-date!\n",
      "[nltk_data] Downloading package punkt_tab to\n",
      "[nltk_data]     C:\\Users\\bvits\\AppData\\Roaming\\nltk_data...\n",
      "[nltk_data]   Package punkt_tab is already up-to-date!\n",
      "[nltk_data] Downloading package stopwords to\n",
      "[nltk_data]     C:\\Users\\bvits\\AppData\\Roaming\\nltk_data...\n",
      "[nltk_data]   Package stopwords is already up-to-date!\n"
     ]
    }
   ],
   "source": [
    "# Imports\n",
    "import gensim\n",
    "import numpy as np\n",
    "import pandas as pd\n",
    "import matplotlib.pyplot as plt\n",
    "import seaborn as sns\n",
    "\n",
    "import nltk\n",
    "from nltk.corpus import stopwords\n",
    "from nltk.tokenize import word_tokenize\n",
    "nltk.download('punkt')\n",
    "nltk.download('punkt_tab')\n",
    "nltk.download('stopwords')\n",
    "stop_words = set(stopwords.words('english'))\n",
    "\n",
    "import re\n",
    "#import inflect\n",
    "#from num2words import num2words\n",
    "from nltk.corpus import stopwords\n",
    "from collections import Counter\n",
    "\n",
    "import sklearn\n",
    "\n",
    "from gensim.models import Word2Vec\n",
    "\n",
    "from sklearn.model_selection import ParameterSampler\n",
    "from sklearn.feature_extraction.text import TfidfVectorizer\n",
    "from sklearn.metrics.pairwise import cosine_similarity\n",
    "\n",
    "from sklearn.model_selection import train_test_split\n",
    "from sklearn.naive_bayes import MultinomialNB\n",
    "from sklearn.linear_model import LogisticRegression\n",
    "from sklearn.metrics import accuracy_score, precision_score, recall_score, f1_score, classification_report\n",
    "from sklearn.model_selection import cross_val_score\n",
    "from sklearn.feature_extraction.text import CountVectorizer\n",
    "from sklearn.model_selection import RandomizedSearchCV\n",
    "\n",
    "from nltk.stem import WordNetLemmatizer\n",
    "import nltk "
   ]
  },
  {
   "cell_type": "markdown",
   "metadata": {},
   "source": [
    "# Necassary preprocessing steps"
   ]
  },
  {
   "cell_type": "code",
   "execution_count": 2,
   "metadata": {},
   "outputs": [],
   "source": [
    "# Import data\n",
    "df = pd.read_csv('us_equities_news_dataset.csv')"
   ]
  },
  {
   "cell_type": "code",
   "execution_count": 3,
   "metadata": {},
   "outputs": [],
   "source": [
    "# Filter out Nvidia articles\n",
    "nvidia_df = df[df['title'].str.contains('NVIDIA|NVDA', case=False, na=False) |\n",
    "               df['content'].str.contains('NVIDIA|NVDA', case=False, na=False) |\n",
    "               df['ticker'].str.contains('NVIDIA|NVDA', case=False, na=False)]"
   ]
  },
  {
   "cell_type": "code",
   "execution_count": 4,
   "metadata": {},
   "outputs": [
    {
     "name": "stdout",
     "output_type": "stream",
     "text": [
      "3464\n"
     ]
    }
   ],
   "source": [
    "print(len(nvidia_df))"
   ]
  },
  {
   "cell_type": "code",
   "execution_count": 5,
   "metadata": {},
   "outputs": [
    {
     "name": "stderr",
     "output_type": "stream",
     "text": [
      "C:\\Users\\bvits\\AppData\\Local\\Temp\\ipykernel_15720\\2317645968.py:14: SettingWithCopyWarning: \n",
      "A value is trying to be set on a copy of a slice from a DataFrame.\n",
      "Try using .loc[row_indexer,col_indexer] = value instead\n",
      "\n",
      "See the caveats in the documentation: https://pandas.pydata.org/pandas-docs/stable/user_guide/indexing.html#returning-a-view-versus-a-copy\n",
      "  nvidia_df['content'] = nvidia_df['content'].apply(preprocess_text_iteration1)\n"
     ]
    }
   ],
   "source": [
    "#Pre processing steps\n",
    "def preprocess_text_iteration1(text):\n",
    "    text = text.strip()\n",
    "    # Replace URLs with an empty string\n",
    "    re.sub(r'http\\S+|www\\S+|https\\S+', '', text, flags=re.MULTILINE)\n",
    "    words = word_tokenize(text.lower())\n",
    "    #check if the word is alpha numeric\n",
    "    alpha_words = [word for word in words if word.isalpha()]\n",
    "    #remove numbers\n",
    "    numbers_words = [word for word in alpha_words if not word.isdigit()]\n",
    "    return numbers_words\n",
    "\n",
    "# apply preprocessing\n",
    "nvidia_df['content'] = nvidia_df['content'].apply(preprocess_text_iteration1)"
   ]
  },
  {
   "cell_type": "code",
   "execution_count": 6,
   "metadata": {},
   "outputs": [
    {
     "name": "stdout",
     "output_type": "stream",
     "text": [
      "[[0 0 0 ... 0 0 0]\n",
      " [0 0 0 ... 0 0 0]\n",
      " [0 0 0 ... 0 0 0]\n",
      " ...\n",
      " [0 0 0 ... 0 0 0]\n",
      " [0 0 0 ... 0 0 0]\n",
      " [0 0 0 ... 0 0 0]]\n"
     ]
    }
   ],
   "source": [
    "#create a document term matrix\n",
    "vectorizer = CountVectorizer()\n",
    "X = vectorizer.fit_transform(nvidia_df['content'].apply(lambda x: ' '.join(x)))\n",
    "print(X.toarray())"
   ]
  },
  {
   "cell_type": "code",
   "execution_count": 7,
   "metadata": {},
   "outputs": [
    {
     "name": "stdout",
     "output_type": "stream",
     "text": [
      "Topic 0: the to nasdaq at nyse on was inc and in\n",
      "Topic 1: the to and of in that is on for it\n",
      "Topic 2: the of and in to for on is as that\n",
      "Topic 3: the of to and in zacks is year company for\n",
      "Topic 4: the to and of in that is for with its\n",
      "[[3.33679444e-04 9.98672051e-01 3.31530940e-04 3.32240994e-04\n",
      "  3.30497360e-04]\n",
      " [1.46724347e-02 9.84048657e-01 4.24542898e-04 4.25398167e-04\n",
      "  4.28967212e-04]\n",
      " [1.17503317e-01 1.57607207e-01 6.83934649e-01 4.47099975e-04\n",
      "  4.05077274e-02]\n",
      " ...\n",
      " [3.06023673e-04 6.26508095e-02 6.73968436e-01 2.62765056e-01\n",
      "  3.09674869e-04]\n",
      " [1.44314196e-04 3.58371492e-03 8.02585662e-01 1.93541172e-01\n",
      "  1.45136982e-04]\n",
      " [2.46351826e-04 2.48833896e-04 6.22757718e-01 3.76499502e-01\n",
      "  2.47594198e-04]]\n"
     ]
    },
    {
     "data": {
      "image/png": "[encoded data removed]",
      "text/plain": [
       "<Figure size 1000x500 with 1 Axes>"
      ]
     },
     "metadata": {},
     "output_type": "display_data"
    }
   ],
   "source": [
    "# train LDAModel\n",
    "from sklearn.decomposition import LatentDirichletAllocation\n",
    "lda = LatentDirichletAllocation(n_components=5, random_state=0)\n",
    "lda.fit(X)\n",
    "\n",
    "# get topics\n",
    "def get_topics(model, vectorizer, n_top_words):\n",
    "    words = vectorizer.get_feature_names_out()\n",
    "    topics = []\n",
    "    for topic in model.components_:\n",
    "        topic_words = [words[i] for i in topic.argsort()[:-n_top_words - 1:-1]]\n",
    "        topics.append(topic_words)\n",
    "    return topics\n",
    "\n",
    "topics = get_topics(lda, vectorizer, 10)\n",
    "for i, topic in enumerate(topics):\n",
    "    print('Topic {}: {}'.format(i, ' '.join(topic)))\n",
    "\n",
    "# get topic distribution for each document\n",
    "topic_dist = lda.transform(X)\n",
    "print(topic_dist)\n",
    "\n",
    "# plot the distribution of topics\n",
    "plt.figure(figsize=(10, 5))\n",
    "sns.histplot(topic_dist.argmax(axis=1), bins=5)\n",
    "plt.xlabel('Topic')\n",
    "plt.ylabel('Number of documents')\n",
    "plt.title('Distribution of topics')\n",
    "plt.show()\n",
    "\n"
   ]
  },
  {
   "cell_type": "code",
   "execution_count": 8,
   "metadata": {},
   "outputs": [],
   "source": [
    "# create a cluster plot for the topics\n",
    "\n",
    "#if we have more time we look this because it is a cool plot (we don't fully understand it because copilot made it)\n",
    "\n",
    "# from sklearn.manifold import TSNE\n",
    "# tsne = TSNE(n_components=2, random_state=0)\n",
    "# tsne_embedding = tsne.fit_transform(topic_dist)\n",
    "# plt.figure(figsize=(10, 5))\n",
    "# sns.scatterplot(x=tsne_embedding[:, 0], y=tsne_embedding[:, 1], hue=topic_dist.argmax(axis=1), palette='tab10')\n",
    "# plt.xlabel('t-SNE component 1')\n",
    "# plt.ylabel('t-SNE component 2')\n",
    "# plt.title('t-SNE plot of topics')\n",
    "# plt.show()"
   ]
  },
  {
   "cell_type": "code",
   "execution_count": 10,
   "metadata": {},
   "outputs": [],
   "source": [
    "# FuzzyTM FLSA-W\n",
    "from FuzzyTM import FLSA_W\n",
    "\n",
    "# create a FLSA-W model\n",
    "flsaW = FLSA_W(\n",
    "input_file = nvidia_df['content'].to_list(),\n",
    "num_topics=5,\n",
    "num_words=10,\n",
    ")"
   ]
  },
  {
   "cell_type": "code",
   "execution_count": 11,
   "metadata": {},
   "outputs": [
    {
     "name": "stdout",
     "output_type": "stream",
     "text": [
      "[(0, '0.009*\"book\" + 0.0077*\"evolution\" + 0.0075*\"books\" + 0.0071*\"richard\" + 0.0066*\"science\" + 0.006*\"certainty\" + 0.0056*\"modern\" + 0.0055*\"professor\" + 0.005*\"me\" + 0.0045*\"beliefs\"'), (1, '0.0008*\"traded\" + 0.0007*\"reuters\" + 0.0007*\"exchange\" + 0.0006*\"composite\" + 0.0006*\"session\" + 0.0006*\"chipmaker\" + 0.0006*\"rose\" + 0.0006*\"blast\" + 0.0006*\"previously\" + 0.0006*\"bell\"'), (2, '0.0002*\"the\" + 0.0002*\"to\" + 0.0002*\"in\" + 0.0002*\"of\" + 0.0002*\"a\" + 0.0002*\"and\" + 0.0002*\"on\" + 0.0002*\"for\" + 0.0002*\"s\" + 0.0002*\"with\"'), (3, '0.0005*\"gmt\" + 0.0004*\"outnumbered\" + 0.0003*\"performers\" + 0.0003*\"settle\" + 0.0003*\"the\" + 0.0003*\"to\" + 0.0003*\"slumped\" + 0.0003*\"in\" + 0.0003*\"of\" + 0.0003*\"a\"'), (4, '0.0019*\"nvda\" + 0.0019*\"nvidia\" + 0.0017*\"com\" + 0.0017*\"nasdaq\" + 0.0016*\"shares\" + 0.0015*\"nyse\" + 0.0015*\"advanced\" + 0.0015*\"days\" + 0.0015*\"during\" + 0.0015*\"p\"')]\n"
     ]
    }
   ],
   "source": [
    "flsaW.get_vocabulary_size()\n",
    "pwgt, ptgd = flsaW.get_matrices() # THIS TRAINS THE MODEL\n",
    "print(flsaW.show_topics())\n"
   ]
  },
  {
   "cell_type": "code",
   "execution_count": 13,
   "metadata": {},
   "outputs": [
    {
     "name": "stdout",
     "output_type": "stream",
     "text": [
      "['book', 'evolution', 'books', 'richard', 'science', 'certainty', 'modern', 'professor', 'me', 'beliefs']\n",
      "['traded', 'reuters', 'exchange', 'composite', 'session', 'chipmaker', 'rose', 'blast', 'previously', 'bell']\n",
      "['the', 'to', 'in', 'of', 'a', 'and', 'on', 'for', 's', 'with']\n",
      "['gmt', 'outnumbered', 'performers', 'settle', 'the', 'to', 'slumped', 'in', 'of', 'a']\n",
      "['nvda', 'nvidia', 'com', 'nasdaq', 'shares', 'nyse', 'advanced', 'days', 'during', 'p']\n",
      "0.41443719248642524\n",
      "0.9\n",
      "0.3729934732377827\n"
     ]
    }
   ],
   "source": [
    "for topic in flsaW.show_topics(representation='words'):\n",
    "    print(topic)\n",
    "\n",
    "\n",
    "print(flsaW.get_coherence_score()) # ask if this has to be high\n",
    "print(flsaW.get_diversity_score()) # ask if this has to be high\n",
    "print(flsaW.get_interpretability_score()) # ask if this has to be high\n",
    "\n",
    "\n"
   ]
  }
 ],
 "metadata": {
  "kernelspec": {
   "display_name": ".venv",
   "language": "python",
   "name": "python3"
  },
  "language_info": {
   "codemirror_mode": {
    "name": "ipython",
    "version": 3
   },
   "file_extension": ".py",
   "mimetype": "text/x-python",
   "name": "python",
   "nbconvert_exporter": "python",
   "pygments_lexer": "ipython3",
   "version": "3.12.4"
  }
 },
 "nbformat": 4,
 "nbformat_minor": 2
}
